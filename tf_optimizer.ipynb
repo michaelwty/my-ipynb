{
 "cells": [
  {
   "cell_type": "markdown",
   "metadata": {},
   "source": [
    "## GradientDescentOptimizer"
   ]
  },
  {
   "cell_type": "code",
   "execution_count": 2,
   "metadata": {},
   "outputs": [
    {
     "name": "stdout",
     "output_type": "stream",
     "text": [
      "Epoch: 1, w: -0.8773049712181091, b: 9.658255577087402\n",
      "Epoch: 2, w: 0.26549232006073, b: 10.428922653198242\n",
      "Epoch: 3, w: 1.0527156591415405, b: 10.283689498901367\n",
      "Epoch: 4, w: 1.479754090309143, b: 10.14016342163086\n",
      "Epoch: 5, w: 1.7003698348999023, b: 10.058143615722656\n",
      "Epoch: 6, w: 1.8130018711090088, b: 10.015263557434082\n",
      "Epoch: 7, w: 1.8703336715698242, b: 9.993306159973145\n",
      "Epoch: 8, w: 1.8994929790496826, b: 9.982123374938965\n",
      "Epoch: 9, w: 1.9143218994140625, b: 9.976434707641602\n",
      "Epoch: 10, w: 1.9218626022338867, b: 9.973541259765625\n"
     ]
    },
    {
     "data": {
      "image/png": "[encoded data removed]",
      "text/plain": [
       "<Figure size 432x288 with 1 Axes>"
      ]
     },
     "metadata": {
      "needs_background": "light"
     },
     "output_type": "display_data"
    }
   ],
   "source": [
    "import tensorflow as tf\n",
    "import numpy as np\n",
    "import matplotlib.pyplot as plt\n",
    "\n",
    "# Prepare train data\n",
    "train_X = np.linspace(-1, 1, 100)\n",
    "train_Y = 2 * train_X + np.random.randn(*train_X.shape) * 0.33 + 10\n",
    "\n",
    "# Define the model\n",
    "X = tf.placeholder(\"float\")\n",
    "Y = tf.placeholder(\"float\")\n",
    "w = tf.Variable(0.0, name=\"weight\")\n",
    "b = tf.Variable(0.0, name=\"bias\")\n",
    "loss = tf.square(Y - X*w - b)\n",
    "train_op = tf.train.GradientDescentOptimizer(0.01).minimize(loss)\n",
    "\n",
    "# Create session to run\n",
    "with tf.Session() as sess:\n",
    "    sess.run(tf.global_variables_initializer())\n",
    "\n",
    "    epoch = 1\n",
    "    for i in range(10):\n",
    "        for (x, y) in zip(train_X, train_Y):\n",
    "            _, w_value, b_value = sess.run([train_op, w, b],feed_dict={X: x,Y: y})\n",
    "        print(\"Epoch: {}, w: {}, b: {}\".format(epoch, w_value, b_value))\n",
    "        epoch += 1\n",
    "\n",
    "\n",
    "#draw\n",
    "plt.plot(train_X,train_Y,\"+\")\n",
    "plt.plot(train_X,train_X.dot(w_value)+b_value)\n",
    "plt.show()"
   ]
  },
  {
   "cell_type": "markdown",
   "metadata": {},
   "source": [
    "## MomentumOptimizer"
   ]
  },
  {
   "cell_type": "code",
   "execution_count": 4,
   "metadata": {},
   "outputs": [
    {
     "ename": "TypeError",
     "evalue": "testIrisMomentum() missing 1 required positional argument: 'self'",
     "output_type": "error",
     "traceback": [
      "\u001b[1;31m---------------------------------------------------------------------------\u001b[0m",
      "\u001b[1;31mTypeError\u001b[0m                                 Traceback (most recent call last)",
      "\u001b[1;32m<ipython-input-4-87f1450c7de2>\u001b[0m in \u001b[0;36m<module>\u001b[1;34m\u001b[0m\n\u001b[0;32m     25\u001b[0m   \u001b[0mself\u001b[0m\u001b[1;33m.\u001b[0m\u001b[0massertGreater\u001b[0m\u001b[1;33m(\u001b[0m\u001b[0mscore\u001b[0m\u001b[1;33m,\u001b[0m \u001b[1;36m0.65\u001b[0m\u001b[1;33m,\u001b[0m \u001b[1;34m\"Failed with score = {0}\"\u001b[0m\u001b[1;33m.\u001b[0m\u001b[0mformat\u001b[0m\u001b[1;33m(\u001b[0m\u001b[0mscore\u001b[0m\u001b[1;33m)\u001b[0m\u001b[1;33m)\u001b[0m\u001b[1;33m\u001b[0m\u001b[1;33m\u001b[0m\u001b[0m\n\u001b[0;32m     26\u001b[0m \u001b[1;33m\u001b[0m\u001b[0m\n\u001b[1;32m---> 27\u001b[1;33m \u001b[0mm\u001b[0m \u001b[1;33m=\u001b[0m \u001b[0mtestIrisMomentum\u001b[0m\u001b[1;33m(\u001b[0m\u001b[1;33m)\u001b[0m\u001b[1;33m\u001b[0m\u001b[1;33m\u001b[0m\u001b[0m\n\u001b[0m",
      "\u001b[1;31mTypeError\u001b[0m: testIrisMomentum() missing 1 required positional argument: 'self'"
     ]
    }
   ],
   "source": [
    "from sklearn.datasets import load_iris\n",
    "\n",
    "def testIrisMomentum(self):\n",
    "  random.seed(42)\n",
    " \n",
    "  iris = load_iris()\n",
    "  x_train, x_test, y_train, y_test = train_test_split(iris.data,\n",
    "                                                      iris.target,\n",
    "                                                      test_size=0.2,\n",
    "                                                      random_state=42)\n",
    " \n",
    "  def custom_optimizer():\n",
    "    return tf.train.MomentumOptimizer(learning_rate=0.01, momentum=0.9)\n",
    " \n",
    "  classifier = learn.DNNClassifier(\n",
    "      hidden_units=[10, 20, 10],\n",
    "      feature_columns=learn.infer_real_valued_columns_from_input(x_train),\n",
    "      n_classes=3,\n",
    "      optimizer=custom_optimizer,\n",
    "      config=learn.RunConfig(tf_random_seed=1))\n",
    "  classifier.fit(x_train, y_train, steps=400)\n",
    "  predictions = np.array(list(classifier.predict(x_test)))\n",
    "  score = accuracy_score(y_test, predictions)\n",
    " \n",
    "  self.assertGreater(score, 0.65, \"Failed with score = {0}\".format(score))\n",
    "    \n",
    "m = testIrisMomentum()"
   ]
  }
 ],
 "metadata": {
  "kernelspec": {
   "display_name": "Python 3",
   "language": "python",
   "name": "python3"
  },
  "language_info": {
   "codemirror_mode": {
    "name": "ipython",
    "version": 3
   },
   "file_extension": ".py",
   "mimetype": "text/x-python",
   "name": "python",
   "nbconvert_exporter": "python",
   "pygments_lexer": "ipython3",
   "version": "3.7.3"
  }
 },
 "nbformat": 4,
 "nbformat_minor": 2
}
